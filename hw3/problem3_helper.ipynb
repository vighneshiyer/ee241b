{
 "cells": [
  {
   "cell_type": "code",
   "execution_count": 31,
   "metadata": {
    "collapsed": false
   },
   "outputs": [
    {
     "name": "stdout",
     "output_type": "stream",
     "text": [
      "Sum of all delays: 7.000000\n",
      "ff1: 02 ff2: 07 start_to_ff1: 1.700000 ff1_to_ff2: 2.600000 ff2_to_end: 2.700000 max_of_delays: 2.700000\n",
      "ff1: 03 ff2: 07 start_to_ff1: 2.400000 ff1_to_ff2: 1.900000 ff2_to_end: 2.700000 max_of_delays: 2.700000\n",
      "ff1: 03 ff2: 08 start_to_ff1: 2.400000 ff1_to_ff2: 2.700000 ff2_to_end: 1.900000 max_of_delays: 2.700000\n",
      "ff1: 03 ff2: 09 start_to_ff1: 2.400000 ff1_to_ff2: 2.900000 ff2_to_end: 1.700000 max_of_delays: 2.900000\n",
      "ff1: 04 ff2: 07 start_to_ff1: 2.900000 ff1_to_ff2: 1.400000 ff2_to_end: 2.700000 max_of_delays: 2.900000\n",
      "ff1: 04 ff2: 08 start_to_ff1: 2.900000 ff1_to_ff2: 2.200000 ff2_to_end: 1.900000 max_of_delays: 2.900000\n",
      "ff1: 04 ff2: 09 start_to_ff1: 2.900000 ff1_to_ff2: 2.400000 ff2_to_end: 1.700000 max_of_delays: 2.900000\n",
      "ff1: 04 ff2: 10 start_to_ff1: 2.900000 ff1_to_ff2: 2.800000 ff2_to_end: 1.300000 max_of_delays: 2.900000\n"
     ]
    }
   ],
   "source": [
    "delays = [1, 0.7, 0.7, 0.5, 0.2, 0.2, 1, 0.8, 0.2, 0.4, 0.5, 0.8]\n",
    "print(\"Sum of all delays: %f\" % sum(delays))\n",
    "for ff1_pos in range(len(delays)):\n",
    "    for ff2_pos in range(ff1_pos + 1, len(delays)):\n",
    "        start_to_ff1 = sum(delays[0:ff1_pos])\n",
    "        ff1_to_ff2 = sum(delays[ff1_pos:ff2_pos])\n",
    "        ff2_to_end = sum(delays[ff2_pos:len(delays)])\n",
    "        total = start_to_ff1 + ff1_to_ff2 + ff2_to_end\n",
    "        max_of_delays = max(start_to_ff1, ff1_to_ff2, ff2_to_end)\n",
    "        if max_of_delays <= 3.0:\n",
    "            print(\"ff1: %02d ff2: %02d start_to_ff1: %f ff1_to_ff2: %f ff2_to_end: %f max_of_delays: %f\" % \n",
    "                  (ff1_pos, ff2_pos, start_to_ff1, ff1_to_ff2, ff2_to_end, max_of_delays))"
   ]
  },
  {
   "cell_type": "code",
   "execution_count": 34,
   "metadata": {
    "collapsed": false
   },
   "outputs": [
    {
     "name": "stdout",
     "output_type": "stream",
     "text": [
      "12\n",
      "Sum of all delays: 7.000000\n"
     ]
    }
   ],
   "source": [
    "max_delays = [1, 0.7, 0.7, 0.5, 0.2, 0.2, 1, 0.8, 0.2, 0.4, 0.5, 0.8]\n",
    "min_delays = [0.2, 0.1, 0.1, 0.1, 0.1, 0.1, 0.1, 0.1, 0.1, 0.2, 0.1, 0.1]\n",
    "print len(min_delays)\n",
    "print(\"Sum of all delays: %f\" % sum(delays))\n",
    "for l1_pos in range(len(delays)):\n",
    "    for l2_pos in range(ff1_pos + 1, len(delays)):\n",
    "        start_to_l1_max = sum(max_delays[0:l1_pos])\n",
    "        l1_to_l2_max = sum(max_delays[l1_pos:l2_pos])\n",
    "        l2_to_end_max = sum(max_delays[l2_pos:len(max_delays)])\n",
    "        \n",
    "        start_to_l1_min = sum(min_delays[0:l1_pos])\n",
    "        l1_to_l2_min = sum(min_delays[l1_pos:l2_pos])\n",
    "        l2_to_end_min = sum(min_delays[l2_pos:len(min_delays)])\n",
    "\n",
    "        \n",
    "        \n",
    "        start_to_ff1 = sum(delays[0:ff1_pos])\n",
    "        ff1_to_ff2 = sum(delays[ff1_pos:ff2_pos])\n",
    "        ff2_to_end = sum(delays[ff2_pos:len(delays)])\n",
    "        total = start_to_ff1 + ff1_to_ff2 + ff2_to_end\n",
    "        max_of_delays = max(start_to_ff1, ff1_to_ff2, ff2_to_end)\n",
    "        if max_of_delays <= 3.0:\n",
    "            print(\"ff1: %02d ff2: %02d start_to_ff1: %f ff1_to_ff2: %f ff2_to_end: %f max_of_delays: %f\" % \n",
    "                  (ff1_pos, ff2_pos, start_to_ff1, ff1_to_ff2, ff2_to_end, max_of_delays))"
   ]
  },
  {
   "cell_type": "code",
   "execution_count": null,
   "metadata": {
    "collapsed": true
   },
   "outputs": [],
   "source": []
  }
 ],
 "metadata": {
  "anaconda-cloud": {},
  "kernelspec": {
   "display_name": "Python 2",
   "language": "python",
   "name": "python2"
  },
  "language_info": {
   "codemirror_mode": {
    "name": "ipython",
    "version": 2
   },
   "file_extension": ".py",
   "mimetype": "text/x-python",
   "name": "python",
   "nbconvert_exporter": "python",
   "pygments_lexer": "ipython2",
   "version": "2.7.12"
  }
 },
 "nbformat": 4,
 "nbformat_minor": 0
}
